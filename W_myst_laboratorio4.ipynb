{
 "cells": [
  {
   "cell_type": "markdown",
   "metadata": {},
   "source": [
    "<img style=\"float: right; margin: 0px 0px 15px 15px;\" src=\"https://upload.wikimedia.org/wikipedia/commons/d/db/Logo_ITESO_normal.jpg\" width=\"150px\" height=\"90px\" />\n",
    "\n",
    "## Microestructuras y sistemas de trading\n",
    "\n",
    "### Laboratorio 4. Análsis Fundamental.\n",
    "\n",
    ">##### Andrés García\n",
    ">##### Juan López\n",
    ">##### Antonio Tirado\n",
    ">##### Oscar Villa\n"
   ]
  },
  {
   "cell_type": "code",
   "execution_count": 5,
   "metadata": {},
   "outputs": [],
   "source": [
    "import pandas as pd\n",
    "import numpy as np"
   ]
  },
  {
   "cell_type": "code",
   "execution_count": 6,
   "metadata": {},
   "outputs": [],
   "source": [
    "calendario = 'calendario_economico.csv'\n",
    "cal=pd.read_csv(calendario, header=0, sep=',', index_col=None, parse_dates=False, skip_blank_lines=True)\n",
    "cal['timestamp'] = pd.to_datetime(cal['timestamp'])\n",
    "cal['timestamp'] = cal['timestamp'].dt.tz_localize('UTC')"
   ]
  },
  {
   "cell_type": "code",
   "execution_count": null,
   "metadata": {},
   "outputs": [],
   "source": [
    "precios = 'precios_historicos_eurusd.csv'\n",
    "precios=pd.read_csv(precios, header=0, sep=',', index_col=None, parse_dates=False, skip_blank_lines=True)\n",
    "precios['timestamp'] = pd.to_datetime(precios['timestamp'])\n",
    "precios['timestamp'] = precios['timestamp'].dt.tz_localize('UTC')"
   ]
  },
  {
   "cell_type": "code",
   "execution_count": null,
   "metadata": {},
   "outputs": [],
   "source": [
    "precios19 = 'precios_historicos_eurusd.csv'\n",
    "p19=pd.read_csv(precios19, header=0, sep=',', index_col=None, parse_dates=False, skip_blank_lines=True)\n",
    "p19['timestamp'] = pd.to_datetime(p19['timestamp'])\n",
    "p19['timestamp'] = p19['timestamp'].dt.tz_localize('UTC')"
   ]
  },
  {
   "cell_type": "code",
   "execution_count": 7,
   "metadata": {},
   "outputs": [],
   "source": [
    "tb = cal[(cal['Name'] == 'Trade Balance') & (cal['Currency'] == 'USD')].reset_index(drop=True).dropna(subset=['actual']).fillna(method='ffill',axis=1)"
   ]
  },
  {
   "cell_type": "code",
   "execution_count": 8,
   "metadata": {},
   "outputs": [],
   "source": [
    "emp = cal[(cal['Name']=='ADP Employment Change')].reset_index(drop=True).dropna(subset=['actual']).fillna(method='ffill',axis=1)ADP_EMP = cal[(cal['Name']=='ADP Employment Change')].reset_index(drop=True)"
   ]
  },
  {
   "cell_type": "code",
   "execution_count": 9,
   "metadata": {},
   "outputs": [
    {
     "data": {
      "text/html": [
       "<div>\n",
       "<style scoped>\n",
       "    .dataframe tbody tr th:only-of-type {\n",
       "        vertical-align: middle;\n",
       "    }\n",
       "\n",
       "    .dataframe tbody tr th {\n",
       "        vertical-align: top;\n",
       "    }\n",
       "\n",
       "    .dataframe thead th {\n",
       "        text-align: right;\n",
       "    }\n",
       "</style>\n",
       "<table border=\"1\" class=\"dataframe\">\n",
       "  <thead>\n",
       "    <tr style=\"text-align: right;\">\n",
       "      <th></th>\n",
       "      <th>timestamp</th>\n",
       "      <th>Currency</th>\n",
       "      <th>Name</th>\n",
       "      <th>Country</th>\n",
       "      <th>Volatility</th>\n",
       "      <th>actual</th>\n",
       "      <th>previous</th>\n",
       "      <th>consensus</th>\n",
       "    </tr>\n",
       "  </thead>\n",
       "  <tbody>\n",
       "    <tr>\n",
       "      <th>0</th>\n",
       "      <td>2009-01-13 13:30:00+00:00</td>\n",
       "      <td>USD</td>\n",
       "      <td>Trade Balance</td>\n",
       "      <td>United States</td>\n",
       "      <td>3</td>\n",
       "      <td>-41.58</td>\n",
       "      <td>-56.69</td>\n",
       "      <td>-51.4</td>\n",
       "    </tr>\n",
       "    <tr>\n",
       "      <th>1</th>\n",
       "      <td>2009-02-11 13:30:00+00:00</td>\n",
       "      <td>USD</td>\n",
       "      <td>Trade Balance</td>\n",
       "      <td>United States</td>\n",
       "      <td>3</td>\n",
       "      <td>-39.90</td>\n",
       "      <td>-41.58</td>\n",
       "      <td>-35.9</td>\n",
       "    </tr>\n",
       "    <tr>\n",
       "      <th>2</th>\n",
       "      <td>2009-03-13 12:30:00+00:00</td>\n",
       "      <td>USD</td>\n",
       "      <td>Trade Balance</td>\n",
       "      <td>United States</td>\n",
       "      <td>3</td>\n",
       "      <td>-36.20</td>\n",
       "      <td>-39.90</td>\n",
       "      <td>-38.0</td>\n",
       "    </tr>\n",
       "    <tr>\n",
       "      <th>3</th>\n",
       "      <td>2009-04-09 12:30:00+00:00</td>\n",
       "      <td>USD</td>\n",
       "      <td>Trade Balance</td>\n",
       "      <td>United States</td>\n",
       "      <td>3</td>\n",
       "      <td>-26.13</td>\n",
       "      <td>-36.20</td>\n",
       "      <td>-36.7</td>\n",
       "    </tr>\n",
       "    <tr>\n",
       "      <th>4</th>\n",
       "      <td>2009-05-12 12:30:00+00:00</td>\n",
       "      <td>USD</td>\n",
       "      <td>Trade Balance</td>\n",
       "      <td>United States</td>\n",
       "      <td>3</td>\n",
       "      <td>-28.53</td>\n",
       "      <td>-26.13</td>\n",
       "      <td>-28.9</td>\n",
       "    </tr>\n",
       "  </tbody>\n",
       "</table>\n",
       "</div>"
      ],
      "text/plain": [
       "                  timestamp Currency           Name        Country  \\\n",
       "0 2009-01-13 13:30:00+00:00      USD  Trade Balance  United States   \n",
       "1 2009-02-11 13:30:00+00:00      USD  Trade Balance  United States   \n",
       "2 2009-03-13 12:30:00+00:00      USD  Trade Balance  United States   \n",
       "3 2009-04-09 12:30:00+00:00      USD  Trade Balance  United States   \n",
       "4 2009-05-12 12:30:00+00:00      USD  Trade Balance  United States   \n",
       "\n",
       "   Volatility  actual  previous  consensus  \n",
       "0           3  -41.58    -56.69      -51.4  \n",
       "1           3  -39.90    -41.58      -35.9  \n",
       "2           3  -36.20    -39.90      -38.0  \n",
       "3           3  -26.13    -36.20      -36.7  \n",
       "4           3  -28.53    -26.13      -28.9  "
      ]
     },
     "execution_count": 9,
     "metadata": {},
     "output_type": "execute_result"
    }
   ],
   "source": [
    "condiciones = [(tb.actual>=tb.consensus) & (tb.consensus>=tb.previous),(tb.actual>=tb.consensus) & (tb.consensus<tb.previous)\n",
    "              ,(tb.actual<tb.consensus)&(tb.consensus>=tb.previous),(tb.actual<tb.consensus)&(tb.consensus<tb.previous)]\n",
    "elecciones =['a','b','c','d']\n",
    "clasification=np.select(condiciones,elecciones)\n",
    "tb['clasificacion']=clasification"
   ]
  },
  {
   "cell_type": "code",
   "execution_count": null,
   "metadata": {},
   "outputs": [],
   "source": [
    "condiciones = [(emp.actual>=emp.consensus) & (emp.consensus>=emp.previous),(emp.actual>=emp.consensus) & (emp.consensus<emp.previous)\n",
    "              ,(emp.actual<emp.consensus)&(emp.consensus>=emp.previous),(emp.actual<emp.consensus)&(emp.consensus<emp.previous)]\n",
    "elecciones =['a','b','c','d']\n",
    "clasification=np.select(condiciones,elecciones)\n",
    "emp['clasificacion']=clasification"
   ]
  },
  {
   "cell_type": "code",
   "execution_count": null,
   "metadata": {},
   "outputs": [],
   "source": [
    "tb=tb[tb['timestamp'].isin(list(precios['timestamp']))]\n",
    "tb.head()"
   ]
  },
  {
   "cell_type": "code",
   "execution_count": null,
   "metadata": {},
   "outputs": [],
   "source": [
    "emp=emp[emp['timestamp'].isin(list(precios['timestamp']))]\n",
    "emp.head()"
   ]
  },
  {
   "cell_type": "code",
   "execution_count": null,
   "metadata": {},
   "outputs": [],
   "source": [
    "ventanas_tb={}\n",
    "for i in range(len(tb)):\n",
    "    ind=int(precios[precios['timestamp']==tb.iloc[i,0]].index.values.astype(int))\n",
    "    ventana = precios.iloc[ind-6:ind+7].reset_index(drop=True)\n",
    "    ventanas_tb[tb.iloc[i,0]]=ventana\n"
   ]
  },
  {
   "cell_type": "code",
   "execution_count": null,
   "metadata": {},
   "outputs": [],
   "source": [
    "ventanas_emp={}\n",
    "for i in range(len(emp)):\n",
    "    ind=int(precios[precios['timestamp']==emp.iloc[i,0]].index.values.astype(int))\n",
    "    ventana = precios.iloc[ind-6:ind+7].reset_index(drop=True)\n",
    "    ventanas_emp[emp.iloc[i,0]]=ventana"
   ]
  },
  {
   "cell_type": "code",
   "execution_count": null,
   "metadata": {},
   "outputs": [],
   "source": [
    "ventanas_tb[tb.iloc[0,0]]"
   ]
  }
 ],
 "metadata": {
  "kernelspec": {
   "display_name": "Python 3",
   "language": "python",
   "name": "python3"
  },
  "language_info": {
   "codemirror_mode": {
    "name": "ipython",
    "version": 3
   },
   "file_extension": ".py",
   "mimetype": "text/x-python",
   "name": "python",
   "nbconvert_exporter": "python",
   "pygments_lexer": "ipython3",
   "version": "3.7.3"
  }
 },
 "nbformat": 4,
 "nbformat_minor": 2
}
